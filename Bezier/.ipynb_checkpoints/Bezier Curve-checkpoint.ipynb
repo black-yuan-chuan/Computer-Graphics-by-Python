{
 "cells": [
  {
   "cell_type": "markdown",
   "metadata": {},
   "source": [
    "## 贝塞尔曲线 总结\n",
    "\n",
    "Bezier curve(贝塞尔曲线)是应用于二维图形应用程序的数学曲线，曲线定义：起始点、终止点（也称锚点）、控制点。通过调整控制点，贝塞尔曲线的形状发生变化。1962年，法国数学家Pierre Bezier第一个研究了这种矢量绘制曲线的方法，并给出了详细的计算公式，因此安装这样的公式绘制出来的曲线就用他的姓氏来命名，成为贝塞尔曲线。"
   ]
  },
  {
   "cell_type": "markdown",
   "metadata": {},
   "source": [
    "以下公式中$B(t)$为$t$时间下点的坐标，$P_0$为起点，$P_n$为终点，$P_i$为控制点"
   ]
  },
  {
   "cell_type": "markdown",
   "metadata": {},
   "source": [
    "一阶贝塞尔曲线（线段）：\n",
    "\n",
    "$$\n",
    "B(t) = (1-t)P_0 + tP_1, t \\in [0, 1]\n",
    "$$\n",
    "\n",
    "![jupyter](./一阶贝塞尔曲线.gif)\n",
    "\n",
    "由$P_0$至$P_1$的连续点绘制一条线段"
   ]
  },
  {
   "cell_type": "markdown",
   "metadata": {},
   "source": [
    "二阶贝塞尔曲线（抛物线）\n",
    "\n",
    "$$\n",
    "B(t) = (1-t)^2P_0 + 2t(1-t)P_1 + t^2P_2\n",
    "$$\n",
    "\n",
    "![jupyter](./二阶贝塞尔曲线.gif)\n",
    "\n",
    "原理：\n",
    "- 由$P_0$至$P_1$的连续点$Q_0$绘制一条线段\n",
    "- 由$P_1$至$P_2$的连续点$Q_1$绘制一条线段\n",
    "- 由$Q_0$至$Q_1$的连续点$B(t)$绘制一条二次贝塞尔曲线"
   ]
  },
  {
   "cell_type": "markdown",
   "metadata": {},
   "source": [
    "#### 三阶贝塞尔曲线\n",
    "\n",
    "$$\n",
    "B(t) = P_0(1-t)^3 + P_1t(1-t)^2 + P_2t^2(1-t) + P_3t^3, t \\in [0,1]\n",
    "$$\n",
    "\n",
    "![jupyter](./三阶贝塞尔曲线.gif)\n",
    "\n",
    "通用公式：\n",
    "\n",
    "$$\n",
    "P_i^k=\\begin{cases}\n",
    "P_i,\\quad &k=0 \\\\\n",
    "(1-t)P_i^(k-1) + tP_(i+1)^(k-1), &k=1,2,\\cdots,n; i=0,1,\\cdots,n-k\n",
    "\\end{cases}\n",
    "$$"
   ]
  },
  {
   "cell_type": "markdown",
   "metadata": {},
   "source": [
    "#### 高阶贝塞尔曲线\n",
    "\n",
    "四阶曲线：\n",
    "![jupyter](./四阶贝塞尔曲线.gif)\n",
    "\n",
    "五阶曲线：\n",
    "![jupyter](./五阶贝塞尔曲线.gif)"
   ]
  }
 ],
 "metadata": {
  "kernelspec": {
   "display_name": "Python 3",
   "language": "python",
   "name": "python3"
  },
  "language_info": {
   "codemirror_mode": {
    "name": "ipython",
    "version": 3
   },
   "file_extension": ".py",
   "mimetype": "text/x-python",
   "name": "python",
   "nbconvert_exporter": "python",
   "pygments_lexer": "ipython3",
   "version": "3.8.3"
  }
 },
 "nbformat": 4,
 "nbformat_minor": 4
}
