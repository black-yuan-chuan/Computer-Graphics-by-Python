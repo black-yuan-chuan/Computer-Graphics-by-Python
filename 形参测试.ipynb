{
 "cells": [
  {
   "cell_type": "code",
   "execution_count": 2,
   "metadata": {},
   "outputs": [
    {
     "name": "stdout",
     "output_type": "stream",
     "text": [
      "x的实际值： 5\n",
      "函数中x的值： 6\n",
      "运行后x的值： 5\n"
     ]
    }
   ],
   "source": [
    "def count(x):\n",
    "    x += 1\n",
    "    print(\"函数中x的值：\", x)\n",
    "    \n",
    "x = 5\n",
    "print(\"x的实际值：\", x)\n",
    "count(x)\n",
    "print(\"运行后x的值：\", x)"
   ]
  },
  {
   "cell_type": "code",
   "execution_count": null,
   "metadata": {},
   "outputs": [],
   "source": []
  }
 ],
 "metadata": {
  "kernelspec": {
   "display_name": "Python 3",
   "language": "python",
   "name": "python3"
  },
  "language_info": {
   "codemirror_mode": {
    "name": "ipython",
    "version": 3
   },
   "file_extension": ".py",
   "mimetype": "text/x-python",
   "name": "python",
   "nbconvert_exporter": "python",
   "pygments_lexer": "ipython3",
   "version": "3.8.3"
  }
 },
 "nbformat": 4,
 "nbformat_minor": 4
}
